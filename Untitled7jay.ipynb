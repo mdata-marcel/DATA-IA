{
  "nbformat": 4,
  "nbformat_minor": 0,
  "metadata": {
    "colab": {
      "provenance": [],
      "gpuType": "T4",
      "authorship_tag": "ABX9TyPrlOorGGdUipCih3vb1XIW",
      "include_colab_link": true
    },
    "kernelspec": {
      "name": "python3",
      "display_name": "Python 3"
    },
    "language_info": {
      "name": "python"
    },
    "accelerator": "GPU"
  },
  "cells": [
    {
      "cell_type": "markdown",
      "metadata": {
        "id": "view-in-github",
        "colab_type": "text"
      },
      "source": [
        "<a href=\"https://colab.research.google.com/github/mdata-marcel/DATA-IA/blob/main/Untitled7jay.ipynb\" target=\"_parent\"><img src=\"https://colab.research.google.com/assets/colab-badge.svg\" alt=\"Open In Colab\"/></a>"
      ]
    },
    {
      "cell_type": "code",
      "execution_count": null,
      "metadata": {
        "id": "w0FJheT7vbv-"
      },
      "outputs": [],
      "source": [
        "import numpy\n",
        "from tensorflow import keras\n",
        "import matplotlib.pyplot as plt"
      ]
    },
    {
      "cell_type": "code",
      "source": [
        "(x_train, y_train), (x_test, y_test) = keras.datasets.mnist.load_data()"
      ],
      "metadata": {
        "id": "R8U_S14Tvgn3"
      },
      "execution_count": null,
      "outputs": []
    },
    {
      "cell_type": "code",
      "source": [
        "plt.imshow(x_train[1010])\n",
        "plt.show()"
      ],
      "metadata": {
        "colab": {
          "base_uri": "https://localhost:8080/",
          "height": 430
        },
        "id": "9IG0Xh5AvkP4",
        "outputId": "96b9f729-2804-4021-8e7f-ecb302a9efaa"
      },
      "execution_count": null,
      "outputs": [
        {
          "output_type": "display_data",
          "data": {
            "text/plain": [
              "<Figure size 640x480 with 1 Axes>"
            ],
            "image/png": "[encoded data removed]"
          },
          "metadata": {}
        }
      ]
    },
    {
      "cell_type": "code",
      "source": [
        "print(y_train[1010])"
      ],
      "metadata": {
        "colab": {
          "base_uri": "https://localhost:8080/"
        },
        "id": "88-alpg1vnJC",
        "outputId": "a7323906-b3de-47b8-e456-0165a4a75551"
      },
      "execution_count": null,
      "outputs": [
        {
          "output_type": "stream",
          "name": "stdout",
          "text": [
            "2\n"
          ]
        }
      ]
    },
    {
      "cell_type": "code",
      "source": [
        "# Data preparation"
      ],
      "metadata": {
        "id": "a7xSFKzSvpG2"
      },
      "execution_count": null,
      "outputs": []
    },
    {
      "cell_type": "code",
      "source": [
        "x_train = x_train.astype(\"float16\")/255\n",
        "x_test = x_test.astype(\"float16\")/255"
      ],
      "metadata": {
        "id": "UgnE8gmrvs2x"
      },
      "execution_count": null,
      "outputs": []
    },
    {
      "cell_type": "code",
      "source": [
        "x_train[0].shape"
      ],
      "metadata": {
        "colab": {
          "base_uri": "https://localhost:8080/"
        },
        "id": "QrcoAkvuvuse",
        "outputId": "407bbcdc-24bb-4285-900f-2ea49d12d521"
      },
      "execution_count": null,
      "outputs": [
        {
          "output_type": "execute_result",
          "data": {
            "text/plain": [
              "(28, 28)"
            ]
          },
          "metadata": {},
          "execution_count": 35
        }
      ]
    },
    {
      "cell_type": "code",
      "source": [
        "# on va rajouter un canal à toutes les images pour que le Sequential (réseau de neurones puisse correctement gérer le shape des inputs)\n",
        "x_train = numpy.expand_dims(x_train, -1)\n",
        "x_test = numpy.expand_dims(x_test, -1)"
      ],
      "metadata": {
        "id": "1aV8lNmvvxhg"
      },
      "execution_count": null,
      "outputs": []
    },
    {
      "cell_type": "code",
      "source": [
        "x_train[0].shape"
      ],
      "metadata": {
        "colab": {
          "base_uri": "https://localhost:8080/"
        },
        "id": "bEaFd1NQvzaN",
        "outputId": "8de173c9-d92b-411c-9c49-be95494135e3"
      },
      "execution_count": null,
      "outputs": [
        {
          "output_type": "execute_result",
          "data": {
            "text/plain": [
              "(28, 28, 1)"
            ]
          },
          "metadata": {},
          "execution_count": 37
        }
      ]
    },
    {
      "cell_type": "code",
      "source": [
        "# one hot enconding\n",
        "y_train = keras.utils.to_categorical(y_train, 10)\n",
        "y_test = keras.utils.to_categorical(y_test, 10)"
      ],
      "metadata": {
        "id": "SnJtstolv6pe"
      },
      "execution_count": null,
      "outputs": []
    },
    {
      "cell_type": "code",
      "source": [
        "y_train[1010]"
      ],
      "metadata": {
        "colab": {
          "base_uri": "https://localhost:8080/"
        },
        "id": "X83VrhYKv8BX",
        "outputId": "2e11030e-b426-4cc6-8d3f-6e8e4f33abcc"
      },
      "execution_count": null,
      "outputs": [
        {
          "output_type": "execute_result",
          "data": {
            "text/plain": [
              "array([0., 0., 1., 0., 0., 0., 0., 0., 0., 0.], dtype=float32)"
            ]
          },
          "metadata": {},
          "execution_count": 39
        }
      ]
    },
    {
      "cell_type": "code",
      "source": [
        "# Créer le model CNN"
      ],
      "metadata": {
        "id": "VDMxXq5awAvo"
      },
      "execution_count": null,
      "outputs": []
    },
    {
      "cell_type": "code",
      "source": [
        "mon_premier_cnn = keras.Sequential(\n",
        "    [\n",
        "        keras.Input(shape=(28, 28, 1)),\n",
        "        # encodeur\n",
        "        keras.layers.Conv2D(128, kernel_size=(2, 2), activation=\"relu\"),\n",
        "        keras.layers.MaxPool2D(pool_size=(2,2)),\n",
        "\n",
        "        keras.layers.Dropout(0.3),\n",
        "\n",
        "        keras.layers.Conv2D(64, kernel_size=(2, 2), activation=\"relu\"),\n",
        "        keras.layers.MaxPool2D(pool_size=(2,2)),\n",
        "\n",
        "        #connexion encodeur <-> classifier\n",
        "        keras.layers.Flatten(),\n",
        "\n",
        "        # Classifier\n",
        "        keras.layers.Dense(10, activation=\"softmax\") #softmax : plein de classes, sigmoid 2 : classes\n",
        "    ]\n",
        ")\n",
        "mon_premier_cnn.summary()"
      ],
      "metadata": {
        "colab": {
          "base_uri": "https://localhost:8080/"
        },
        "id": "FFZUNQVHwBda",
        "outputId": "cc4580a9-d77e-4bea-d470-d566329c0e21"
      },
      "execution_count": null,
      "outputs": [
        {
          "output_type": "stream",
          "name": "stdout",
          "text": [
            "Model: \"sequential_2\"\n",
            "_________________________________________________________________\n",
            " Layer (type)                Output Shape              Param #   \n",
            "=================================================================\n",
            " conv2d_4 (Conv2D)           (None, 27, 27, 128)       640       \n",
            "                                                                 \n",
            " max_pooling2d_4 (MaxPoolin  (None, 13, 13, 128)       0         \n",
            " g2D)                                                            \n",
            "                                                                 \n",
            " dropout_2 (Dropout)         (None, 13, 13, 128)       0         \n",
            "                                                                 \n",
            " conv2d_5 (Conv2D)           (None, 12, 12, 64)        32832     \n",
            "                                                                 \n",
            " max_pooling2d_5 (MaxPoolin  (None, 6, 6, 64)          0         \n",
            " g2D)                                                            \n",
            "                                                                 \n",
            " flatten_2 (Flatten)         (None, 2304)              0         \n",
            "                                                                 \n",
            " dense_2 (Dense)             (None, 10)                23050     \n",
            "                                                                 \n",
            "=================================================================\n",
            "Total params: 56522 (220.79 KB)\n",
            "Trainable params: 56522 (220.79 KB)\n",
            "Non-trainable params: 0 (0.00 Byte)\n",
            "_________________________________________________________________\n"
          ]
        }
      ]
    },
    {
      "cell_type": "code",
      "source": [
        "mon_premier_cnn.compile(loss=\"categorical_crossentropy\", optimizer=\"adam\", metrics=\"accuracy\")\n",
        "history = mon_premier_cnn.fit(x_train, y_train, batch_size=16, epochs=10)\n"
      ],
      "metadata": {
        "colab": {
          "base_uri": "https://localhost:8080/"
        },
        "id": "5G9VBin1xzwk",
        "outputId": "06e24ccf-5f7a-4e56-c839-14e298d98197"
      },
      "execution_count": null,
      "outputs": [
        {
          "output_type": "stream",
          "name": "stdout",
          "text": [
            "Epoch 1/10\n",
            "3750/3750 [==============================] - 15s 4ms/step - loss: 0.1585 - accuracy: 0.9511\n",
            "Epoch 2/10\n",
            "3750/3750 [==============================] - 14s 4ms/step - loss: 0.0617 - accuracy: 0.9812\n",
            "Epoch 3/10\n",
            "3750/3750 [==============================] - 14s 4ms/step - loss: 0.0469 - accuracy: 0.9855\n",
            "Epoch 4/10\n",
            "3750/3750 [==============================] - 14s 4ms/step - loss: 0.0379 - accuracy: 0.9881\n",
            "Epoch 5/10\n",
            "3750/3750 [==============================] - 15s 4ms/step - loss: 0.0307 - accuracy: 0.9904\n",
            "Epoch 6/10\n",
            "3750/3750 [==============================] - 14s 4ms/step - loss: 0.0262 - accuracy: 0.9919\n",
            "Epoch 7/10\n",
            "3750/3750 [==============================] - 14s 4ms/step - loss: 0.0220 - accuracy: 0.9928\n",
            "Epoch 8/10\n",
            "3750/3750 [==============================] - 14s 4ms/step - loss: 0.0213 - accuracy: 0.9929\n",
            "Epoch 9/10\n",
            "3750/3750 [==============================] - 14s 4ms/step - loss: 0.0182 - accuracy: 0.9938\n",
            "Epoch 10/10\n",
            "3750/3750 [==============================] - 14s 4ms/step - loss: 0.0162 - accuracy: 0.9943\n"
          ]
        }
      ]
    }
  ]
}